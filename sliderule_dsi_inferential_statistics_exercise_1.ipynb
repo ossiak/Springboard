{
 "cells": [
  {
   "cell_type": "markdown",
   "metadata": {},
   "source": [
    "# What is the True Normal Human Body Temperature? \n",
    "\n",
    "#### Background\n",
    "\n",
    "The mean normal body temperature was held to be 37$^{\\circ}$C or 98.6$^{\\circ}$F for more than 120 years since it was first conceptualized and reported by Carl Wunderlich in a famous 1868 book. But, is this value statistically correct?"
   ]
  },
  {
   "cell_type": "markdown",
   "metadata": {},
   "source": [
    "<h3>Exercises</h3>\n",
    "\n",
    "<p>In this exercise, you will analyze a dataset of human body temperatures and employ the concepts of hypothesis testing, confidence intervals, and statistical significance.</p>\n",
    "\n",
    "<p>Answer the following questions <b>in this notebook below and submit to your Github account</b>.</p> \n",
    "\n",
    "<ol>\n",
    "<li>  Is the distribution of body temperatures normal? \n",
    "    <ul>\n",
    "    <li> Although this is not a requirement for the Central Limit Theorem to hold (read the introduction on Wikipedia's page about the CLT carefully: https://en.wikipedia.org/wiki/Central_limit_theorem), it gives us some peace of mind that the population may also be normally distributed if we assume that this sample is representative of the population.\n",
    "    <li> Think about the way you're going to check for the normality of the distribution. Graphical methods are usually used first, but there are also other ways: https://en.wikipedia.org/wiki/Normality_test\n",
    "    </ul>\n",
    "<li>  Is the sample size large? Are the observations independent?\n",
    "    <ul>\n",
    "    <li> Remember that this is a condition for the Central Limit Theorem, and hence the statistical tests we are using, to apply.\n",
    "    </ul>\n",
    "<li>  Is the true population mean really 98.6 degrees F?\n",
    "    <ul>\n",
    "    <li> First, try a bootstrap hypothesis test.\n",
    "    <li> Now, let's try frequentist statistical testing. Would you use a one-sample or two-sample test? Why?\n",
    "    <li> In this situation, is it appropriate to use the $t$ or $z$ statistic? \n",
    "    <li> Now try using the other test. How is the result be different? Why?\n",
    "    </ul>\n",
    "<li>  Draw a small sample of size 10 from the data and repeat both frequentist tests. \n",
    "    <ul>\n",
    "    <li> Which one is the correct one to use? \n",
    "    <li> What do you notice? What does this tell you about the difference in application of the $t$ and $z$ statistic?\n",
    "    </ul>\n",
    "<li>  At what temperature should we consider someone's temperature to be \"abnormal\"?\n",
    "    <ul>\n",
    "    <li> As in the previous example, try calculating everything using the boostrap approach, as well as the frequentist approach.\n",
    "    <li> Start by computing the margin of error and confidence interval. When calculating the confidence interval, keep in mind that you should use the appropriate formula for one draw, and not N draws.\n",
    "    </ul>\n",
    "<li>  Is there a significant difference between males and females in normal temperature?\n",
    "    <ul>\n",
    "    <li> What testing approach did you use and why?\n",
    "    <li> Write a story with your conclusion in the context of the original problem.\n",
    "    </ul>\n",
    "</ol>\n",
    "\n",
    "You can include written notes in notebook cells using Markdown: \n",
    "   - In the control panel at the top, choose Cell > Cell Type > Markdown\n",
    "   - Markdown syntax: http://nestacms.com/docs/creating-content/markdown-cheat-sheet\n",
    "\n",
    "#### Resources\n",
    "\n",
    "+ Information and data sources: http://www.amstat.org/publications/jse/datasets/normtemp.txt, http://www.amstat.org/publications/jse/jse_data_archive.htm\n",
    "+ Markdown syntax: http://nestacms.com/docs/creating-content/markdown-cheat-sheet\n",
    "\n",
    "****"
   ]
  },
  {
   "cell_type": "code",
   "execution_count": 1,
   "metadata": {
    "collapsed": true
   },
   "outputs": [],
   "source": [
    "import numpy as np\n",
    "import pandas as pd\n",
    "import scipy.stats as stats\n",
    "import statsmodels.stats.weightstats as wstats\n",
    "#import math\n",
    "\n",
    "df = pd.read_csv('data/human_body_temperature.csv')"
   ]
  },
  {
   "cell_type": "code",
   "execution_count": 2,
   "metadata": {
    "collapsed": true
   },
   "outputs": [],
   "source": [
    "# Your work here.\n",
    "import matplotlib.pyplot as plt\n",
    "import matplotlib\n",
    "import seaborn as sns\n",
    "#%matplotlib inlinedf.shape"
   ]
  },
  {
   "cell_type": "code",
   "execution_count": 3,
   "metadata": {},
   "outputs": [
    {
     "name": "stdout",
     "output_type": "stream",
     "text": [
      "<class 'pandas.core.frame.DataFrame'>\n",
      "RangeIndex: 130 entries, 0 to 129\n",
      "Data columns (total 3 columns):\n",
      "temperature    130 non-null float64\n",
      "gender         130 non-null object\n",
      "heart_rate     130 non-null float64\n",
      "dtypes: float64(2), object(1)\n",
      "memory usage: 3.1+ KB\n"
     ]
    }
   ],
   "source": [
    "df.info()"
   ]
  },
  {
   "cell_type": "code",
   "execution_count": 4,
   "metadata": {},
   "outputs": [
    {
     "data": {
      "text/html": [
       "<div>\n",
       "<style>\n",
       "    .dataframe thead tr:only-child th {\n",
       "        text-align: right;\n",
       "    }\n",
       "\n",
       "    .dataframe thead th {\n",
       "        text-align: left;\n",
       "    }\n",
       "\n",
       "    .dataframe tbody tr th {\n",
       "        vertical-align: top;\n",
       "    }\n",
       "</style>\n",
       "<table border=\"1\" class=\"dataframe\">\n",
       "  <thead>\n",
       "    <tr style=\"text-align: right;\">\n",
       "      <th></th>\n",
       "      <th>temperature</th>\n",
       "      <th>gender</th>\n",
       "      <th>heart_rate</th>\n",
       "    </tr>\n",
       "  </thead>\n",
       "  <tbody>\n",
       "    <tr>\n",
       "      <th>0</th>\n",
       "      <td>99.3</td>\n",
       "      <td>F</td>\n",
       "      <td>68.0</td>\n",
       "    </tr>\n",
       "    <tr>\n",
       "      <th>1</th>\n",
       "      <td>98.4</td>\n",
       "      <td>F</td>\n",
       "      <td>81.0</td>\n",
       "    </tr>\n",
       "    <tr>\n",
       "      <th>2</th>\n",
       "      <td>97.8</td>\n",
       "      <td>M</td>\n",
       "      <td>73.0</td>\n",
       "    </tr>\n",
       "    <tr>\n",
       "      <th>3</th>\n",
       "      <td>99.2</td>\n",
       "      <td>F</td>\n",
       "      <td>66.0</td>\n",
       "    </tr>\n",
       "    <tr>\n",
       "      <th>4</th>\n",
       "      <td>98.0</td>\n",
       "      <td>F</td>\n",
       "      <td>73.0</td>\n",
       "    </tr>\n",
       "  </tbody>\n",
       "</table>\n",
       "</div>"
      ],
      "text/plain": [
       "   temperature gender  heart_rate\n",
       "0         99.3      F        68.0\n",
       "1         98.4      F        81.0\n",
       "2         97.8      M        73.0\n",
       "3         99.2      F        66.0\n",
       "4         98.0      F        73.0"
      ]
     },
     "execution_count": 4,
     "metadata": {},
     "output_type": "execute_result"
    }
   ],
   "source": [
    "df.head()"
   ]
  },
  {
   "cell_type": "code",
   "execution_count": 5,
   "metadata": {},
   "outputs": [
    {
     "data": {
      "image/png": "[encoded data removed]",
      "text/plain": [
       "<matplotlib.figure.Figure at 0x1ad80278>"
      ]
     },
     "metadata": {},
     "output_type": "display_data"
    }
   ],
   "source": [
    "#mt = df[df.gender=='M']['temperature']\n",
    "t = df.temperature\n",
    "t_len = len(t)\n",
    "#plt.hist(t, bins='auto')\n",
    "#pd.DataFrame.hist(t, bins='auto')\n",
    "sns.distplot(t,bins='auto')\n",
    "plt.show()"
   ]
  },
  {
   "cell_type": "code",
   "execution_count": 6,
   "metadata": {},
   "outputs": [
    {
     "name": "stdout",
     "output_type": "stream",
     "text": [
      "Normaltest P-value: 0.2587479863488254\n"
     ]
    }
   ],
   "source": [
    "k, p = stats.normaltest(t)\n",
    "print('Normaltest P-value: '+ str(p))"
   ]
  },
  {
   "cell_type": "code",
   "execution_count": 7,
   "metadata": {},
   "outputs": [
    {
     "name": "stdout",
     "output_type": "stream",
     "text": [
      "Shapiro Test P-value: 0.2331680953502655\n"
     ]
    }
   ],
   "source": [
    "k, p = stats.shapiro(t)\n",
    "print('Shapiro Test P-value: ' + str(p))"
   ]
  },
  {
   "cell_type": "markdown",
   "metadata": {},
   "source": [
    "Q1. Is the distribution of body temperatures normal? \n",
    "\n",
    "A1: Due to the large p-values, we can be confident that the distribution is normal."
   ]
  },
  {
   "cell_type": "markdown",
   "metadata": {
    "collapsed": true
   },
   "source": [
    "Q2. Is the sample size large? Are the observations independent?\n",
    "\n",
    "A2. For the purpose of calculating the mean and variance, a sample size of 30 is considered large enough. In this case, the sample size is 130, therefore considered large for our purposes. As for independence, there is no reason to belieive that the body temperature of one person is influenced by that of another. In addition, it is reasonable to assume that the measurements were taken under normal, not extreme conditions, therefore the observations are independent.\n"
   ]
  },
  {
   "cell_type": "markdown",
   "metadata": {
    "collapsed": true
   },
   "source": [
    "Q3.1. Is the true population mean really 98.6 degrees F?\n",
    "First, try a bootstrap hypothesis test.\n",
    "\n",
    "A3.1. \n",
    "\n",
    "Null Hypothesis: The mean temprature is 98.6\n",
    "\n",
    "Alternate Hypothesis: The mean temprature is not 98.6\n"
   ]
  },
  {
   "cell_type": "code",
   "execution_count": 8,
   "metadata": {},
   "outputs": [
    {
     "name": "stdout",
     "output_type": "stream",
     "text": [
      "Bootstrap mean: 98.24921415384614\n",
      "95% Confidence Interval: [98.12538462 98.37153846]\n",
      "p-value: 0.0\n"
     ]
    }
   ],
   "source": [
    "rep = np.empty(10000)\n",
    "for i in range(10000):\n",
    "    rep[i] = np.mean(np.random.choice(df['temperature'], t_len))\n",
    "\n",
    "c_int = np.percentile(rep, [2.5, 97.5])\n",
    "p = sum(rep >= 98.6) / len(rep)\n",
    "print('Bootstrap mean:', np.mean(rep))\n",
    "print('95% Confidence Interval:', c_int)\n",
    "print('p-value:', p)"
   ]
  },
  {
   "cell_type": "markdown",
   "metadata": {
    "collapsed": true
   },
   "source": [
    "Q3.2. Now, let's try frequentist statistical testing. Would you use a one-sample or two-sample test? Why?\n",
    "\n",
    "A3.2. Since we are considering men and women in a single population for this question, a one-sample test wiil be used."
   ]
  },
  {
   "cell_type": "markdown",
   "metadata": {},
   "source": [
    "Q3.3. In this situation, is it appropriate to use the $t$ or $z$ statistic? \n",
    "\n",
    "A3.3. The $t$ statistic is intended for small sample sizes, which is not the case here:"
   ]
  },
  {
   "cell_type": "code",
   "execution_count": 9,
   "metadata": {},
   "outputs": [
    {
     "name": "stdout",
     "output_type": "stream",
     "text": [
      "z-Test P-value:  4.9021570141012155e-08\n"
     ]
    }
   ],
   "source": [
    "z,p_z = wstats.ztest(df.temperature,value=98.6,ddof=1)\n",
    "print('z-Test P-value: ', p_z) #zp_value)"
   ]
  },
  {
   "cell_type": "markdown",
   "metadata": {},
   "source": [
    "Due to the extremely small p-value we can reject the null hypothesis.\n",
    "\n",
    "Q3.4. Now try using the other test. How will the result be different? Why?"
   ]
  },
  {
   "cell_type": "code",
   "execution_count": 10,
   "metadata": {},
   "outputs": [
    {
     "name": "stdout",
     "output_type": "stream",
     "text": [
      "t-Test P-value:  2.4106320415561276e-07\n"
     ]
    }
   ],
   "source": [
    "t,p_t=stats.ttest_1samp(df.temperature, 98.6)\n",
    "print('t-Test P-value: ', p_t)"
   ]
  },
  {
   "cell_type": "markdown",
   "metadata": {},
   "source": [
    "Again we have an extremely small p-value and are able to reject the null hypothesis.\n",
    "\n",
    "Q4.1.  Draw a small sample of size 10 from the data and repeat both frequentist tests. \n",
    "Which one is the correct one to use? \n"
   ]
  },
  {
   "cell_type": "code",
   "execution_count": 11,
   "metadata": {},
   "outputs": [
    {
     "name": "stdout",
     "output_type": "stream",
     "text": [
      "z-Test P-value:  0.3316262452174923\n",
      "t-Test P-value:  0.35699285942992665\n",
      "---------------\n",
      "z-Test P-value:  0.006463527198202946\n",
      "t-Test P-value:  0.023481010434861223\n",
      "---------------\n",
      "z-Test P-value:  0.4794578841931444\n",
      "t-Test P-value:  0.49735876839714244\n",
      "---------------\n",
      "z-Test P-value:  0.7838395932066637\n",
      "t-Test P-value:  0.7900320810408448\n",
      "---------------\n",
      "z-Test P-value:  0.016734113329972194\n",
      "t-Test P-value:  0.04039163076689778\n",
      "---------------\n",
      "z-Test P-value:  0.23362354201851954\n",
      "t-Test P-value:  0.2640873284552705\n",
      "---------------\n",
      "z-Test P-value:  0.0065176186894023\n",
      "t-Test P-value:  0.02358711131464477\n",
      "---------------\n",
      "z-Test P-value:  0.44193968047117416\n",
      "t-Test P-value:  0.4616403292065233\n",
      "---------------\n",
      "z-Test P-value:  0.008344927058017678\n",
      "t-Test P-value:  0.027011649292337615\n",
      "---------------\n",
      "z-Test P-value:  0.7556728066705889\n",
      "t-Test P-value:  0.7627594745338224\n",
      "---------------\n"
     ]
    }
   ],
   "source": [
    "for i in range(10):\n",
    "    t_rand = np.random.choice(df.temperature, size=10)\n",
    "    t,p_t=stats.ttest_1samp(t_rand, 98.6)\n",
    "    z,p_z = wstats.ztest(t_rand,value=98.6,ddof=1)\n",
    "    print('z-Test P-value: ', p_z)\n",
    "    print('t-Test P-value: ', p_t)\n",
    "    print('---------------')"
   ]
  },
  {
   "cell_type": "markdown",
   "metadata": {},
   "source": [
    "We ran the test ten times and we can see the large variation in the p-values due to the extremely small sample size.\n",
    "\n",
    "Q4.2. What do you notice? What does this tell you about the difference in application of the $t$ and $z$ statistic?\n",
    "\n",
    "A4.2. The results show that both tests are unreliable for such a small sample size.\n"
   ]
  },
  {
   "cell_type": "markdown",
   "metadata": {},
   "source": [
    "Q5. At what temperature should we consider someone's temperature to be \"abnormal\"?\n",
    "As in the previous example, try calculating everything using the boostrap approach, as well as the frequentist approach.\n",
    "\n",
    "Start by computing the margin of error and confidence interval. When calculating the confidence interval, keep in mind that you should use the appropriate formula for one draw, and not N draws."
   ]
  },
  {
   "cell_type": "code",
   "execution_count": 12,
   "metadata": {},
   "outputs": [
    {
     "name": "stdout",
     "output_type": "stream",
     "text": [
      "95% confidence interval:  [98.12319411222852, 98.37526742623304]\n"
     ]
    }
   ],
   "source": [
    "#For 95% Confidence Interval, the critical value is: 1.96.\n",
    "#Margin of error: me = 1.96 * Standard Error\n",
    "#Standard Error: se = standard deviation / sqrt(n)\n",
    "s_mean = np.mean(df.temperature)\n",
    "s_std = np.std(df.temperature, ddof=1)\n",
    "se = s_std/np.sqrt(t_len)\n",
    "me = 1.96*se\n",
    "#confidence interval: mean +/- me\n",
    "CI = [s_mean-me,s_mean+me]\n",
    "print('95% confidence interval: ', CI)"
   ]
  },
  {
   "cell_type": "markdown",
   "metadata": {},
   "source": [
    "Any temperature ouside this interval may be considered abnormal by the 95% confidence criterion.\n",
    "\n",
    "Q6.1. Is there a significant difference between males and females in normal temperature?\n",
    "What testing approach did you use and why?"
   ]
  },
  {
   "cell_type": "code",
   "execution_count": 13,
   "metadata": {},
   "outputs": [
    {
     "name": "stdout",
     "output_type": "stream",
     "text": [
      "The difference of means in the two groups:  0.289230769230727\n",
      "z-test p-value: 0.02228736076065755\n",
      "t-test p-value: 0.02393188312239561\n"
     ]
    }
   ],
   "source": [
    "#The null hyphothesis is: the mean of temperature in female and male are equal\n",
    "t_male = df[df.gender == 'M'].temperature\n",
    "t_female = df[df.gender == 'F'].temperature\n",
    "#Calculate the observed difference\n",
    "diff_means = np.mean(t_female)-np.mean(t_male)\n",
    "print('The difference of means in the two groups: ', diff_means)\n",
    "\n",
    "#We treat the female and male as two groups, assuming both norm distributed, a two samples z test will be used\n",
    "z,p=wstats.ztest(t_female,t_male,value=0,ddof=1)\n",
    "print ('z-test p-value:', p)\n",
    "#We treat the female and male as two groups, a two samples t test will be used\n",
    "t,p=stats.ttest_ind(t_female,t_male)\n",
    "print ('t-test p-value:', p)\n"
   ]
  },
  {
   "cell_type": "markdown",
   "metadata": {},
   "source": [
    "Therefore there is no significant difference between men and women's body temperatures.\n",
    "\n",
    "Q6.2. Write a story with your conclusion in the context of the original problem.\n",
    "\n",
    "A6.2. The main conlusions are that (1) the normal body temperature for people may vary in a statistically significant way, and (2) this variation is not correlated with gender."
   ]
  },
  {
   "cell_type": "code",
   "execution_count": null,
   "metadata": {
    "collapsed": true
   },
   "outputs": [],
   "source": []
  }
 ],
 "metadata": {
  "kernelspec": {
   "display_name": "Python 3",
   "language": "python",
   "name": "python3"
  },
  "language_info": {
   "codemirror_mode": {
    "name": "ipython",
    "version": 3
   },
   "file_extension": ".py",
   "mimetype": "text/x-python",
   "name": "python",
   "nbconvert_exporter": "python",
   "pygments_lexer": "ipython3",
   "version": "3.6.3"
  }
 },
 "nbformat": 4,
 "nbformat_minor": 1
}
